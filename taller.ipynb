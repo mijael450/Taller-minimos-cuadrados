{
 "cells": [
  {
   "cell_type": "markdown",
   "metadata": {},
   "source": [
    "# Taller minimos cuadrados\n",
    "## Mijael Molina "
   ]
  },
  {
   "cell_type": "code",
   "execution_count": 8,
   "metadata": {},
   "outputs": [
    {
     "data": {
      "application/vnd.jupyter.widget-view+json": {
       "model_id": "027422a9624245d68241cf1eba3ea91f",
       "version_major": 2,
       "version_minor": 0
      },
      "text/plain": [
       "interactive(children=(FloatSlider(value=8.9, description='p2_x', max=12.3, min=5.5), FloatSlider(value=0.0, de…"
      ]
     },
     "metadata": {},
     "output_type": "display_data"
    }
   ],
   "source": [
    "import numpy as np\n",
    "from ipywidgets import interact\n",
    "import matplotlib.pyplot as plt\n",
    "\n",
    "p1 = (5, 3)\n",
    "p3 = (12.3, -3.6)\n",
    "\n",
    "def update_plot(p2_x, p2_y):\n",
    "    xs = [p1[0], p2_x, p3[0]]\n",
    "    ys = [p1[1], p2_y, p3[1]]\n",
    "\n",
    "    # Calcular la regresión lineal de los puntos\n",
    "    m, b = calcular_regresion_lineal(xs, ys)\n",
    "\n",
    "    # Graficar los puntos y la recta de regresión\n",
    "    plt.figure(figsize=(10, 6))\n",
    "    plt.scatter(xs, ys, color=\"yellow\")\n",
    "\n",
    "    x_line = [min(xs), max(xs)]\n",
    "    y_line = [m * x + b for x in x_line]\n",
    "    plt.plot(x_line, y_line, color=\"blue\", linestyle=\"--\")\n",
    "\n",
    "    plt.xlabel(\"X\")\n",
    "    plt.ylabel(\"Y\")\n",
    "    plt.title(\"Puntos y modelo de regresion lineal\")\n",
    "    plt.show()\n",
    "\n",
    "    # Mostrar los coeficientes de la regresión\n",
    "    print(f\"Regresión lineal: y = {m:.2f}x + {b:.2f}\")\n",
    "\n",
    "def calcular_regresion_lineal(xs, ys):\n",
    "#Conversion a arreglos\n",
    "    x = np.array(xs)\n",
    "    y = np.array(ys)\n",
    "    m, b = np.polyfit(x, y, 1)\n",
    "    return m, b\n",
    "\n",
    "\n",
    "_ = interact(update_plot, p2_x=(5.5, 12.3, 0.1), p2_y=(-10.0, 10.0, 0.1))"
   ]
  }
 ],
 "metadata": {
  "kernelspec": {
   "display_name": "Python 3",
   "language": "python",
   "name": "python3"
  },
  "language_info": {
   "codemirror_mode": {
    "name": "ipython",
    "version": 3
   },
   "file_extension": ".py",
   "mimetype": "text/x-python",
   "name": "python",
   "nbconvert_exporter": "python",
   "pygments_lexer": "ipython3",
   "version": "3.12.5"
  }
 },
 "nbformat": 4,
 "nbformat_minor": 2
}
